{
 "cells": [
  {
   "cell_type": "code",
   "execution_count": null,
   "metadata": {},
   "outputs": [],
   "source": [
    "import bisect\n",
    "\n",
    "n = int(input())\n",
    "cards = sorted(map(int, input().split()))\n",
    "\n",
    "m = int(input())\n",
    "targets = list(map(int, input().split()))\n",
    "\n",
    "for target in targets:\n",
    "    left = bisect.bisect_left(cards, target)\n",
    "    right = bisect.bisect_right(cards, target)\n",
    "    count = right - left\n",
    "    print(count, end=' ')\n"
   ]
  }
 ],
 "metadata": {
  "language_info": {
   "name": "python"
  },
  "orig_nbformat": 4
 },
 "nbformat": 4,
 "nbformat_minor": 2
}
