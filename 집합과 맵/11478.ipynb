{
 "cells": [
  {
   "cell_type": "code",
   "execution_count": null,
   "metadata": {},
   "outputs": [],
   "source": [
    "word = input()\n",
    "\n",
    "word_set = set()\n",
    "\n",
    "for i in range(len(word)):\n",
    "    for j in range(i+1, len(word)+1):\n",
    "        word_set.add(word[i:j])\n",
    "\n",
    "print(len(word_set))"
   ]
  }
 ],
 "metadata": {
  "language_info": {
   "name": "python"
  },
  "orig_nbformat": 4
 },
 "nbformat": 4,
 "nbformat_minor": 2
}
