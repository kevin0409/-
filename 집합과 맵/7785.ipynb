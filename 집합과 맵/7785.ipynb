{
 "cells": [
  {
   "cell_type": "code",
   "execution_count": null,
   "metadata": {},
   "outputs": [],
   "source": [
    "import sys\n",
    "\n",
    "n = int(sys.stdin.readline())\n",
    "\n",
    "log = {}\n",
    "\n",
    "for _ in range(n):\n",
    "    name, status = sys.stdin.readline().split()\n",
    "    if status == 'enter':\n",
    "        log[name] = True\n",
    "    else:\n",
    "        del log[name]\n",
    "\n",
    "for name in sorted(log.keys(), reverse=True):\n",
    "    print(name)"
   ]
  }
 ],
 "metadata": {
  "language_info": {
   "name": "python"
  },
  "orig_nbformat": 4
 },
 "nbformat": 4,
 "nbformat_minor": 2
}
