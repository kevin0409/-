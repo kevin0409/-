{
 "cells": [
  {
   "cell_type": "code",
   "execution_count": null,
   "metadata": {},
   "outputs": [],
   "source": [
    "n, m = map(int, input().split())\n",
    "\n",
    "hear = {input() for _ in range(n)}\n",
    "\n",
    "see = {input() for _ in range(m)}\n",
    "\n",
    "result = sorted(hear.intersection(see))\n",
    "\n",
    "print(len(result))\n",
    "\n",
    "for i in result:\n",
    "    print(i)\n"
   ]
  }
 ],
 "metadata": {
  "language_info": {
   "name": "python"
  },
  "orig_nbformat": 4
 },
 "nbformat": 4,
 "nbformat_minor": 2
}
