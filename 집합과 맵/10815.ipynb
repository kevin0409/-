{
 "cells": [
  {
   "cell_type": "code",
   "execution_count": 1,
   "metadata": {},
   "outputs": [
    {
     "name": "stdout",
     "output_type": "stream",
     "text": [
      "1 0 0 1 1 0 0 1 "
     ]
    }
   ],
   "source": [
    "n = int(input())\n",
    "\n",
    "cards = list(map(int, input().split()))\n",
    "\n",
    "m = int(input())\n",
    "\n",
    "cards2 = list(map(int, input().split()))\n",
    "\n",
    "cards.sort()\n",
    "\n",
    "for i in cards2:\n",
    "    start = 0\n",
    "    end = n - 1\n",
    "    while start <= end:\n",
    "        mid = (start + end) //2\n",
    "        if cards[mid] == i:\n",
    "            print(1, end = ' ')\n",
    "            break\n",
    "        elif cards[mid] > i:\n",
    "            end = mid -1\n",
    "        else:\n",
    "            start = mid + 1\n",
    "        if start > end:\n",
    "            print(0, end = ' ')\n",
    "            break\n",
    "\n",
    "\n"
   ]
  },
  {
   "cell_type": "code",
   "execution_count": null,
   "metadata": {},
   "outputs": [],
   "source": []
  }
 ],
 "metadata": {
  "kernelspec": {
   "display_name": "Python 3",
   "language": "python",
   "name": "python3"
  },
  "language_info": {
   "codemirror_mode": {
    "name": "ipython",
    "version": 3
   },
   "file_extension": ".py",
   "mimetype": "text/x-python",
   "name": "python",
   "nbconvert_exporter": "python",
   "pygments_lexer": "ipython3",
   "version": "3.11.2"
  },
  "orig_nbformat": 4
 },
 "nbformat": 4,
 "nbformat_minor": 2
}
