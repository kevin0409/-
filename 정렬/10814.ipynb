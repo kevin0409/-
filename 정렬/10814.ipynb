{
 "cells": [
  {
   "cell_type": "code",
   "execution_count": null,
   "metadata": {},
   "outputs": [],
   "source": [
    "n = int(input())\n",
    "\n",
    "arr = [list(map(str, input().split())) for _ in range(n)]\n",
    "\n",
    "arr.sort(key=lambda x: int(x[0]))\n",
    "\n",
    "for i in arr:\n",
    "    print(i[0], i[1])"
   ]
  }
 ],
 "metadata": {
  "language_info": {
   "name": "python"
  },
  "orig_nbformat": 4
 },
 "nbformat": 4,
 "nbformat_minor": 2
}
