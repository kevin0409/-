{
 "cells": [
  {
   "cell_type": "code",
   "execution_count": 3,
   "metadata": {},
   "outputs": [
    {
     "name": "stdout",
     "output_type": "stream",
     "text": [
      "23031"
     ]
    }
   ],
   "source": [
    "n = int(input())\n",
    "\n",
    "x = list(map(int, input().split()))\n",
    "x_set = sorted(list(set(x)))\n",
    "\n",
    "x_dict = {x_set[i]: i for i in range(len(x_set))}\n",
    "\n",
    "for i in x:\n",
    "    print(x_dict[i], end = ' ')"
   ]
  }
 ],
 "metadata": {
  "kernelspec": {
   "display_name": "Python 3",
   "language": "python",
   "name": "python3"
  },
  "language_info": {
   "codemirror_mode": {
    "name": "ipython",
    "version": 3
   },
   "file_extension": ".py",
   "mimetype": "text/x-python",
   "name": "python",
   "nbconvert_exporter": "python",
   "pygments_lexer": "ipython3",
   "version": "3.11.2"
  },
  "orig_nbformat": 4
 },
 "nbformat": 4,
 "nbformat_minor": 2
}
