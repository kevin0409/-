{
 "cells": [
  {
   "cell_type": "code",
   "execution_count": null,
   "metadata": {},
   "outputs": [],
   "source": [
    "n = int(input())\n",
    "\n",
    "arr = [list(map(int, input().split())) for _ in range(n)]\n",
    "\n",
    "\n",
    "for i in sorted(arr, key=lambda x: (x[1], x[0])):\n",
    "    print(*i)\n"
   ]
  }
 ],
 "metadata": {
  "language_info": {
   "name": "python"
  },
  "orig_nbformat": 4
 },
 "nbformat": 4,
 "nbformat_minor": 2
}
