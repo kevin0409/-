{
 "cells": [
  {
   "cell_type": "code",
   "execution_count": 3,
   "id": "3c0a4bc9",
   "metadata": {},
   "outputs": [
    {
     "name": "stdout",
     "output_type": "stream",
     "text": [
      "250000\n",
      "4\n",
      "20000 5\n",
      "30000 2\n",
      "10000 6\n",
      "5000 8\n",
      "No\n"
     ]
    }
   ],
   "source": [
    "total = int(input())\n",
    "index = int(input())\n",
    "price = []\n",
    "\n",
    "for i in range(index):\n",
    "    price_i, index_i = map(int,input().split())\n",
    "    price.append(price_i * index_i)\n",
    "    \n",
    "total_i = sum(price)\n",
    "\n",
    "if total_i == total:\n",
    "    print(\"Yes\")\n",
    "else:\n",
    "    print(\"No\")\n",
    "    "
   ]
  }
 ],
 "metadata": {
  "kernelspec": {
   "display_name": "Python 3 (ipykernel)",
   "language": "python",
   "name": "python3"
  },
  "language_info": {
   "codemirror_mode": {
    "name": "ipython",
    "version": 3
   },
   "file_extension": ".py",
   "mimetype": "text/x-python",
   "name": "python",
   "nbconvert_exporter": "python",
   "pygments_lexer": "ipython3",
   "version": "3.9.13"
  }
 },
 "nbformat": 4,
 "nbformat_minor": 5
}
