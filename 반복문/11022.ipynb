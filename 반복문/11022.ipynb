{
 "cells": [
  {
   "cell_type": "code",
   "execution_count": 1,
   "id": "c4e61aad",
   "metadata": {},
   "outputs": [
    {
     "name": "stdout",
     "output_type": "stream",
     "text": [
      "3\n",
      "1 2\n",
      "Case #1: 1 + 2 = 3\n",
      "2 2\n",
      "Case #2: 2 + 2 = 4\n",
      "3 3\n",
      "Case #3: 3 + 3 = 6\n"
     ]
    }
   ],
   "source": [
    "import sys\n",
    "\n",
    "index = int(input())\n",
    "\n",
    "for i in range(index):\n",
    "    a, b = map(int, input().split())\n",
    "    print('Case #{:.0f}: {:.0f} + {:.0f} = {:.0f}'.format(i+1, a, b, a+b))"
   ]
  },
  {
   "cell_type": "code",
   "execution_count": null,
   "id": "55bb919f",
   "metadata": {},
   "outputs": [],
   "source": []
  }
 ],
 "metadata": {
  "kernelspec": {
   "display_name": "Python 3 (ipykernel)",
   "language": "python",
   "name": "python3"
  },
  "language_info": {
   "codemirror_mode": {
    "name": "ipython",
    "version": 3
   },
   "file_extension": ".py",
   "mimetype": "text/x-python",
   "name": "python",
   "nbconvert_exporter": "python",
   "pygments_lexer": "ipython3",
   "version": "3.9.13"
  }
 },
 "nbformat": 4,
 "nbformat_minor": 5
}
