{
 "cells": [
  {
   "cell_type": "code",
   "execution_count": 9,
   "metadata": {},
   "outputs": [
    {
     "name": "stdout",
     "output_type": "stream",
     "text": [
      "2/1\n"
     ]
    }
   ],
   "source": [
    "n = int(input())\n",
    "\n",
    "line = 0\n",
    "max_num = 0\n",
    "\n",
    "while n > max_num:\n",
    "    line += 1\n",
    "    max_num += line\n",
    "gap = max_num - n\n",
    "if line % 2 == 0:\n",
    "    top = line - gap\n",
    "    under = gap + 1\n",
    "else:\n",
    "    top = gap + 1\n",
    "    under = line - gap\n",
    "print(top, '/', under, sep = '')"
   ]
  },
  {
   "cell_type": "code",
   "execution_count": null,
   "metadata": {},
   "outputs": [],
   "source": []
  }
 ],
 "metadata": {
  "kernelspec": {
   "display_name": "Python 3",
   "language": "python",
   "name": "python3"
  },
  "language_info": {
   "codemirror_mode": {
    "name": "ipython",
    "version": 3
   },
   "file_extension": ".py",
   "mimetype": "text/x-python",
   "name": "python",
   "nbconvert_exporter": "python",
   "pygments_lexer": "ipython3",
   "version": "3.11.2"
  },
  "orig_nbformat": 4
 },
 "nbformat": 4,
 "nbformat_minor": 2
}
