{
 "cells": [
  {
   "cell_type": "code",
   "execution_count": null,
   "metadata": {},
   "outputs": [],
   "source": [
    "import sys\n",
    "\n",
    "input = sys.stdin.readline\n",
    "\n",
    "a = []\n",
    "\n",
    "for _ in range(9):\n",
    "    a.append(list(map(int, input().split())))\n",
    "\n",
    "x = 0\n",
    "y = 0\n",
    "max = -1\n",
    "\n",
    "for i in range(9):\n",
    "    for j in range(9):\n",
    "        if a[i][j] > max:\n",
    "            max = a[i][j]\n",
    "            x = i + 1\n",
    "            y = j + 1\n",
    "print(max)\n",
    "print(x,y)"
   ]
  },
  {
   "cell_type": "code",
   "execution_count": null,
   "metadata": {},
   "outputs": [],
   "source": []
  }
 ],
 "metadata": {
  "kernelspec": {
   "display_name": "Python 3",
   "language": "python",
   "name": "python3"
  },
  "language_info": {
   "codemirror_mode": {
    "name": "ipython",
    "version": 3
   },
   "file_extension": ".py",
   "mimetype": "text/x-python",
   "name": "python",
   "nbconvert_exporter": "python",
   "pygments_lexer": "ipython3",
   "version": "3.11.2"
  },
  "orig_nbformat": 4
 },
 "nbformat": 4,
 "nbformat_minor": 2
}
