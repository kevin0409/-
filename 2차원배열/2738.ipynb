{
 "cells": [
  {
   "cell_type": "code",
   "execution_count": null,
   "metadata": {},
   "outputs": [],
   "source": [
    "n, m = map(int, input().split())\n",
    "\n",
    "a = [[0 for i in range(m)] for j in range(n)]\n",
    "b = [[0 for i in range(m)] for j in range(n)]\n",
    "\n",
    "for i in range(n):\n",
    "    a[i] = list(map(int, input().split()))\n",
    "\n",
    "for i in range(n):\n",
    "    b[i] = list(map(int, input().split()))\n",
    "    \n",
    "for row in range(n):\n",
    "    for col in range(m):\n",
    "        print(a[row][col] + b[row][col], end=' ')\n",
    "    print()"
   ]
  }
 ],
 "metadata": {
  "language_info": {
   "name": "python"
  },
  "orig_nbformat": 4
 },
 "nbformat": 4,
 "nbformat_minor": 2
}
