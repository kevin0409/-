{
 "cells": [
  {
   "cell_type": "code",
   "execution_count": null,
   "metadata": {},
   "outputs": [],
   "source": [
    "degree = []\n",
    "for _ in range(3):\n",
    "    d = int(input())\n",
    "    degree.append(d)\n",
    "if degree.count(60) == 3:\n",
    "    print(\"Equilateral\")\n",
    "elif sum(degree) == 180 and len(set(degree)) == 2:\n",
    "    print(\"Isosceles\")\n",
    "elif sum(degree) == 180 and len(set(degree)) == 3:\n",
    "    print(\"Scalene\")\n",
    "else:\n",
    "    print(\"Error\")"
   ]
  }
 ],
 "metadata": {
  "language_info": {
   "name": "python"
  },
  "orig_nbformat": 4
 },
 "nbformat": 4,
 "nbformat_minor": 2
}
