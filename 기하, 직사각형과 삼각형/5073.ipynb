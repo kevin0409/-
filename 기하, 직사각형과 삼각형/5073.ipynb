{
 "cells": [
  {
   "cell_type": "code",
   "execution_count": 9,
   "metadata": {},
   "outputs": [
    {
     "name": "stdout",
     "output_type": "stream",
     "text": [
      "Equilateral\n",
      "Scalene\n",
      "Invalid\n",
      "Isosceles\n"
     ]
    }
   ],
   "source": [
    "l = []\n",
    "l = list(map(int, input().split()))\n",
    "while(sum(l) != 0):\n",
    "    if max(l) >= (sum(l) - max(l)):\n",
    "            print(\"Invalid\")\n",
    "    else:\n",
    "        if len(set(l)) == 1:\n",
    "            print(\"Equilateral\")\n",
    "        elif len(set(l)) == 2:\n",
    "            print(\"Isosceles\")\n",
    "        else:\n",
    "            print(\"Scalene\")     \n",
    "    l = []\n",
    "    l = list(map(int, input().split()))\n",
    "    \n",
    "    "
   ]
  }
 ],
 "metadata": {
  "kernelspec": {
   "display_name": "Python 3",
   "language": "python",
   "name": "python3"
  },
  "language_info": {
   "codemirror_mode": {
    "name": "ipython",
    "version": 3
   },
   "file_extension": ".py",
   "mimetype": "text/x-python",
   "name": "python",
   "nbconvert_exporter": "python",
   "pygments_lexer": "ipython3",
   "version": "3.11.2"
  },
  "orig_nbformat": 4
 },
 "nbformat": 4,
 "nbformat_minor": 2
}
