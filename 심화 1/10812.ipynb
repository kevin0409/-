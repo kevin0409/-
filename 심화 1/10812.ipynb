{
 "cells": [
  {
   "cell_type": "code",
   "execution_count": 15,
   "metadata": {},
   "outputs": [
    {
     "name": "stdout",
     "output_type": "stream",
     "text": [
      "1 6 2 3 7 4 10 5 8 9\n"
     ]
    }
   ],
   "source": [
    "n, m = map(int, input().split())\n",
    "\n",
    "bucket = [i for i in range(1, n+1)]\n",
    "\n",
    "for i in range(m):\n",
    "    i, j, k = map(int, input().split())\n",
    "    begin = i - 1\n",
    "    mid = k - 1\n",
    "    end = j - 1\n",
    "    \n",
    "    bucket = bucket[:begin] + bucket[mid:end + 1] + bucket[begin:mid] + bucket[end + 1:]\n",
    "\n",
    "print(*bucket)\n"
   ]
  },
  {
   "cell_type": "code",
   "execution_count": null,
   "metadata": {},
   "outputs": [],
   "source": []
  }
 ],
 "metadata": {
  "kernelspec": {
   "display_name": "Python 3",
   "language": "python",
   "name": "python3"
  },
  "language_info": {
   "codemirror_mode": {
    "name": "ipython",
    "version": 3
   },
   "file_extension": ".py",
   "mimetype": "text/x-python",
   "name": "python",
   "nbconvert_exporter": "python",
   "pygments_lexer": "ipython3",
   "version": "3.11.2"
  },
  "orig_nbformat": 4
 },
 "nbformat": 4,
 "nbformat_minor": 2
}
