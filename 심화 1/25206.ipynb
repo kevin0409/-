{
 "cells": [
  {
   "cell_type": "code",
   "execution_count": null,
   "metadata": {},
   "outputs": [],
   "source": [
    "score = {\"A+\":4.5, \"A0\":4.0, \"B+\":3.5, \"B0\":3.0, \"C+\":2.5, \"C0\":2.0, \"D+\":1.5, \"D0\":1.0, \"F\":0.0}\n",
    "sum1 = 0\n",
    "sum2 = 0\n",
    "\n",
    "for _ in range(20):\n",
    "    name, time, grade = input().split()\n",
    "    time = float(time)\n",
    "    if grade != 'P':\n",
    "        sum1 += time\n",
    "        sum2 += time * score[grade]\n",
    "\n",
    "print(\"{:.6f}\".format(sum2/sum1))\n",
    "\n",
    "\n"
   ]
  }
 ],
 "metadata": {
  "language_info": {
   "name": "python"
  },
  "orig_nbformat": 4
 },
 "nbformat": 4,
 "nbformat_minor": 2
}
