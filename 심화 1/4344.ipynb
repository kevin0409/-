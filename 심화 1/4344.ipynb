{
 "cells": [
  {
   "cell_type": "code",
   "execution_count": 2,
   "metadata": {},
   "outputs": [
    {
     "name": "stdout",
     "output_type": "stream",
     "text": [
      "40.000%\n"
     ]
    }
   ],
   "source": [
    "case = int(input())\n",
    "\n",
    "for _ in range(case):\n",
    "    s_list = list(map(int, input().split()))\n",
    "    avg = sum(s_list[1:])/s_list[0]\n",
    "    count = 0\n",
    "    for i in s_list[1:]:\n",
    "        if i > avg:\n",
    "            count += 1\n",
    "    p = (count/s_list[0]) * 100\n",
    "    print('{:.3f}%'.format(p))\n"
   ]
  },
  {
   "cell_type": "code",
   "execution_count": null,
   "metadata": {},
   "outputs": [],
   "source": []
  }
 ],
 "metadata": {
  "kernelspec": {
   "display_name": "Python 3",
   "language": "python",
   "name": "python3"
  },
  "language_info": {
   "codemirror_mode": {
    "name": "ipython",
    "version": 3
   },
   "file_extension": ".py",
   "mimetype": "text/x-python",
   "name": "python",
   "nbconvert_exporter": "python",
   "pygments_lexer": "ipython3",
   "version": "3.11.2"
  },
  "orig_nbformat": 4
 },
 "nbformat": 4,
 "nbformat_minor": 2
}
