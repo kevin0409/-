{
 "cells": [
  {
   "cell_type": "code",
   "execution_count": 11,
   "id": "bc393c75",
   "metadata": {},
   "outputs": [
    {
     "name": "stdout",
     "output_type": "stream",
     "text": [
      "5 4\n",
      "1 2\n",
      "3 4\n",
      "1 4\n",
      "2 2\n",
      "3 4 1 2 5\n"
     ]
    }
   ],
   "source": [
    "n ,m = map(int,input().split())\n",
    "list = [i+1 for i in range(n)]\n",
    "for _ in range(m):\n",
    "    i, j = map(int, input().split())\n",
    "    list[i-1:j] = list[i-1:j][::-1]\n",
    "print(*list)"
   ]
  },
  {
   "cell_type": "code",
   "execution_count": null,
   "id": "ce1f28c0",
   "metadata": {},
   "outputs": [],
   "source": []
  }
 ],
 "metadata": {
  "kernelspec": {
   "display_name": "Python 3 (ipykernel)",
   "language": "python",
   "name": "python3"
  },
  "language_info": {
   "codemirror_mode": {
    "name": "ipython",
    "version": 3
   },
   "file_extension": ".py",
   "mimetype": "text/x-python",
   "name": "python",
   "nbconvert_exporter": "python",
   "pygments_lexer": "ipython3",
   "version": "3.9.13"
  }
 },
 "nbformat": 4,
 "nbformat_minor": 5
}
