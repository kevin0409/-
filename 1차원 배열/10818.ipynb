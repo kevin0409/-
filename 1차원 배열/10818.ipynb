{
 "cells": [
  {
   "cell_type": "code",
   "execution_count": 10,
   "id": "d50c4c3a",
   "metadata": {},
   "outputs": [
    {
     "name": "stdout",
     "output_type": "stream",
     "text": [
      "5\n",
      "1 2 3 4 5\n",
      "1 5\n"
     ]
    }
   ],
   "source": [
    "n = int(input())\n",
    "n_list = list(map(int, input().split()))\n",
    "\n",
    "top = n_list[0]\n",
    "bot = n_list[0]\n",
    "\n",
    "for i in range(n):\n",
    "    if n_list[i] > top:\n",
    "        top = n_list[i]\n",
    "    if n_list[i] < bot:\n",
    "        bot = n_list[i]\n",
    "print(bot, top)"
   ]
  },
  {
   "cell_type": "code",
   "execution_count": null,
   "id": "4e444887",
   "metadata": {},
   "outputs": [],
   "source": []
  }
 ],
 "metadata": {
  "kernelspec": {
   "display_name": "Python 3 (ipykernel)",
   "language": "python",
   "name": "python3"
  },
  "language_info": {
   "codemirror_mode": {
    "name": "ipython",
    "version": 3
   },
   "file_extension": ".py",
   "mimetype": "text/x-python",
   "name": "python",
   "nbconvert_exporter": "python",
   "pygments_lexer": "ipython3",
   "version": "3.9.13"
  }
 },
 "nbformat": 4,
 "nbformat_minor": 5
}
