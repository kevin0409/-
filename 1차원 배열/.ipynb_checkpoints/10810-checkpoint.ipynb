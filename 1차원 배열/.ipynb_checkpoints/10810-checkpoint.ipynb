{
 "cells": [
  {
   "cell_type": "code",
   "execution_count": 5,
   "id": "205b66c9",
   "metadata": {},
   "outputs": [
    {
     "name": "stdout",
     "output_type": "stream",
     "text": [
      "5 4\n",
      "1 2 3\n",
      "3 4 4\n",
      "1 4 1\n",
      "2 2 2\n",
      "1 2 1 1 0 "
     ]
    }
   ],
   "source": [
    "n, m = map(int, input().split())\n",
    "n_list = [0] * (n+1)\n",
    "for _ in range(m):\n",
    "    i, j, k = map(int, input().split())\n",
    "    for r in range(i, j+1):\n",
    "        n_list[r] = k\n",
    "for i in range(1, n+1):\n",
    "    print(n_list[i], end = ' ')"
   ]
  },
  {
   "cell_type": "code",
   "execution_count": null,
   "id": "979f20c9",
   "metadata": {},
   "outputs": [],
   "source": []
  }
 ],
 "metadata": {
  "kernelspec": {
   "display_name": "Python 3 (ipykernel)",
   "language": "python",
   "name": "python3"
  },
  "language_info": {
   "codemirror_mode": {
    "name": "ipython",
    "version": 3
   },
   "file_extension": ".py",
   "mimetype": "text/x-python",
   "name": "python",
   "nbconvert_exporter": "python",
   "pygments_lexer": "ipython3",
   "version": "3.9.13"
  }
 },
 "nbformat": 4,
 "nbformat_minor": 5
}
