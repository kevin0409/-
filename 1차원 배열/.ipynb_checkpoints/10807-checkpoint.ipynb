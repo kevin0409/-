{
 "cells": [
  {
   "cell_type": "code",
   "execution_count": 2,
   "id": "d54c6732",
   "metadata": {},
   "outputs": [
    {
     "name": "stdout",
     "output_type": "stream",
     "text": [
      "3\n",
      "1 2 2\n",
      "2\n",
      "2\n"
     ]
    }
   ],
   "source": [
    "n = int(input())\n",
    "n_list = list(map(int, input().split()))\n",
    "f = int(input())\n",
    "print(n_list.count(f))"
   ]
  },
  {
   "cell_type": "code",
   "execution_count": null,
   "id": "9ddffe9c",
   "metadata": {},
   "outputs": [],
   "source": []
  }
 ],
 "metadata": {
  "kernelspec": {
   "display_name": "Python 3 (ipykernel)",
   "language": "python",
   "name": "python3"
  },
  "language_info": {
   "codemirror_mode": {
    "name": "ipython",
    "version": 3
   },
   "file_extension": ".py",
   "mimetype": "text/x-python",
   "name": "python",
   "nbconvert_exporter": "python",
   "pygments_lexer": "ipython3",
   "version": "3.9.13"
  }
 },
 "nbformat": 4,
 "nbformat_minor": 5
}
