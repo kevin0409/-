{
 "cells": [
  {
   "cell_type": "code",
   "execution_count": 2,
   "metadata": {},
   "outputs": [],
   "source": [
    "def blackjack(N, M, list = []):\n",
    "    result = 0\n",
    "    for i in range(N):\n",
    "        for j in range(i+1, N):\n",
    "            for k in range(j+1, N):\n",
    "                sum = list[i] + list[j] + list[k]\n",
    "                if sum <= M:\n",
    "                    result = max(result, sum)\n",
    "    return result\n"
   ]
  },
  {
   "cell_type": "code",
   "execution_count": 4,
   "metadata": {},
   "outputs": [
    {
     "data": {
      "text/plain": [
       "497"
      ]
     },
     "execution_count": 4,
     "metadata": {},
     "output_type": "execute_result"
    }
   ],
   "source": [
    "N, M = map(int, input().split())\n",
    "\n",
    "card = list(map(int, input().split()))\n",
    "\n",
    "blackjack(N, M, card)"
   ]
  },
  {
   "cell_type": "code",
   "execution_count": 7,
   "metadata": {},
   "outputs": [
    {
     "name": "stdout",
     "output_type": "stream",
     "text": [
      "21\n"
     ]
    }
   ],
   "source": [
    "N, M = map(int, input().split())\n",
    "\n",
    "card = list(map(int, input().split()))\n",
    "\n",
    "result = 0\n",
    "for i in range(N):\n",
    "    for j in range(i+1, N):\n",
    "        for k in range(j+1, N):\n",
    "            sum = card[i] + card[j] + card[k]\n",
    "            if sum <= M:\n",
    "                result = max(result, sum)\n",
    "print(result)\n"
   ]
  },
  {
   "cell_type": "code",
   "execution_count": null,
   "metadata": {},
   "outputs": [],
   "source": []
  }
 ],
 "metadata": {
  "kernelspec": {
   "display_name": "Python 3",
   "language": "python",
   "name": "python3"
  },
  "language_info": {
   "codemirror_mode": {
    "name": "ipython",
    "version": 3
   },
   "file_extension": ".py",
   "mimetype": "text/x-python",
   "name": "python",
   "nbconvert_exporter": "python",
   "pygments_lexer": "ipython3",
   "version": "3.11.2"
  },
  "orig_nbformat": 4
 },
 "nbformat": 4,
 "nbformat_minor": 2
}
