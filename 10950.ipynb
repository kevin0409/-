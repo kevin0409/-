{
 "cells": [
  {
   "cell_type": "code",
   "execution_count": 1,
   "id": "c59be0c8",
   "metadata": {},
   "outputs": [
    {
     "name": "stdout",
     "output_type": "stream",
     "text": [
      "3\n",
      "1 1\n",
      "2 2 \n",
      "3 3 \n",
      "2\n",
      "4\n",
      "6\n"
     ]
    }
   ],
   "source": [
    "index = int(input())\n",
    "ans = []\n",
    "for i in range(index):\n",
    "    a ,b = map(int, input().split())\n",
    "    ans.append(a+b)\n",
    "for r in range(len(ans)):\n",
    "    print(ans[r])"
   ]
  },
  {
   "cell_type": "code",
   "execution_count": null,
   "id": "894abf6f",
   "metadata": {},
   "outputs": [],
   "source": []
  }
 ],
 "metadata": {
  "kernelspec": {
   "display_name": "Python 3 (ipykernel)",
   "language": "python",
   "name": "python3"
  },
  "language_info": {
   "codemirror_mode": {
    "name": "ipython",
    "version": 3
   },
   "file_extension": ".py",
   "mimetype": "text/x-python",
   "name": "python",
   "nbconvert_exporter": "python",
   "pygments_lexer": "ipython3",
   "version": "3.9.13"
  }
 },
 "nbformat": 4,
 "nbformat_minor": 5
}
