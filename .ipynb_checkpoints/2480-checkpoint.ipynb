{
 "cells": [
  {
   "cell_type": "code",
   "execution_count": 3,
   "id": "3d395e12",
   "metadata": {},
   "outputs": [
    {
     "name": "stdout",
     "output_type": "stream",
     "text": [
      "1 5 3\n",
      "500\n"
     ]
    }
   ],
   "source": [
    "a, b, c = map(int, input().split())\n",
    "\n",
    "dice = []\n",
    "dice.append(a)\n",
    "dice.append(b)\n",
    "dice.append(c)\n",
    "top = a\n",
    "\n",
    "if dice[0] == dice[1] and dice[1] == dice[2] and dice[0] == dice[2]:\n",
    "    price = 10000 + dice[0] * 1000\n",
    "    \n",
    "elif dice[0] == dice[1] and dice[0] != dice[2]:\n",
    "    price = 1000 + dice[0] * 100\n",
    "    \n",
    "elif dice[1] == dice[2] and dice[0] != dice[1]:\n",
    "    price = 1000 + dice[1] * 100\n",
    "    \n",
    "elif dice[0] == dice[2] and dice[0] != dice[1]:\n",
    "    price = 1000 + dice[2] * 100\n",
    "    \n",
    "else:\n",
    "    for i in range(len(dice)):\n",
    "        if dice[i] >= top:\n",
    "            top = dice[i]\n",
    "            \n",
    "    price = top * 100\n",
    "\n",
    "print(price)"
   ]
  },
  {
   "cell_type": "code",
   "execution_count": null,
   "id": "a9d1e076",
   "metadata": {},
   "outputs": [],
   "source": []
  },
  {
   "cell_type": "code",
   "execution_count": null,
   "id": "5f3b6821",
   "metadata": {},
   "outputs": [],
   "source": []
  }
 ],
 "metadata": {
  "kernelspec": {
   "display_name": "Python 3 (ipykernel)",
   "language": "python",
   "name": "python3"
  },
  "language_info": {
   "codemirror_mode": {
    "name": "ipython",
    "version": 3
   },
   "file_extension": ".py",
   "mimetype": "text/x-python",
   "name": "python",
   "nbconvert_exporter": "python",
   "pygments_lexer": "ipython3",
   "version": "3.9.13"
  }
 },
 "nbformat": 4,
 "nbformat_minor": 5
}
