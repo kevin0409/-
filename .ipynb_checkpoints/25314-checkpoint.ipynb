{
 "cells": [
  {
   "cell_type": "code",
   "execution_count": 3,
   "id": "fd03b696",
   "metadata": {},
   "outputs": [
    {
     "name": "stdout",
     "output_type": "stream",
     "text": [
      "20\n",
      "long long long long long int\n"
     ]
    }
   ],
   "source": [
    "byte = int(input())\n",
    "\n",
    "index = byte//4\n",
    "\n",
    "for i in range(index):\n",
    "    print(\"long \", end = '')\n",
    "print(\"int\")"
   ]
  },
  {
   "cell_type": "code",
   "execution_count": null,
   "id": "a20daea0",
   "metadata": {},
   "outputs": [],
   "source": []
  }
 ],
 "metadata": {
  "kernelspec": {
   "display_name": "Python 3 (ipykernel)",
   "language": "python",
   "name": "python3"
  },
  "language_info": {
   "codemirror_mode": {
    "name": "ipython",
    "version": 3
   },
   "file_extension": ".py",
   "mimetype": "text/x-python",
   "name": "python",
   "nbconvert_exporter": "python",
   "pygments_lexer": "ipython3",
   "version": "3.9.13"
  }
 },
 "nbformat": 4,
 "nbformat_minor": 5
}
