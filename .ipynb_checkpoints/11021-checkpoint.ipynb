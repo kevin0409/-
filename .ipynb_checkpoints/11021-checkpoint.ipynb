{
 "cells": [
  {
   "cell_type": "code",
   "execution_count": 6,
   "id": "04efc157",
   "metadata": {},
   "outputs": [
    {
     "name": "stdout",
     "output_type": "stream",
     "text": [
      "3\n",
      "1 1\n",
      "Case #1: 2\n",
      "2 2\n",
      "Case #2: 4\n",
      "1 3\n",
      "Case #3: 4\n"
     ]
    }
   ],
   "source": [
    "import sys\n",
    "\n",
    "index = int(input())\n",
    "\n",
    "for i in range(index):\n",
    "    a, b = map(int, input().split())\n",
    "    print('Case #{:.0f}: {:.0f}'.format(i+1, a+b))"
   ]
  }
 ],
 "metadata": {
  "kernelspec": {
   "display_name": "Python 3 (ipykernel)",
   "language": "python",
   "name": "python3"
  },
  "language_info": {
   "codemirror_mode": {
    "name": "ipython",
    "version": 3
   },
   "file_extension": ".py",
   "mimetype": "text/x-python",
   "name": "python",
   "nbconvert_exporter": "python",
   "pygments_lexer": "ipython3",
   "version": "3.9.13"
  }
 },
 "nbformat": 4,
 "nbformat_minor": 5
}
