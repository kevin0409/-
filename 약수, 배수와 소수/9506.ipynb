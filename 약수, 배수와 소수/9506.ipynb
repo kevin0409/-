{
 "cells": [
  {
   "cell_type": "code",
   "execution_count": 2,
   "metadata": {},
   "outputs": [
    {
     "name": "stdout",
     "output_type": "stream",
     "text": [
      "6 = 1 + 2 + 3\n",
      "12 is NOT perfect.\n",
      "28 = 1 + 2 + 4 + 7 + 14\n"
     ]
    }
   ],
   "source": [
    "n = int(input())\n",
    "\n",
    "while(n != -1):\n",
    "    l = []\n",
    "    for i in range(1, n+1):\n",
    "        r = n % i\n",
    "        if r == 0:\n",
    "            if n != i:\n",
    "                l.append(i)\n",
    "    if sum(l) == n:\n",
    "        print(n, \" = \", \" + \".join(str(i) for i in l), sep=\"\")\n",
    "    else:\n",
    "        print(n, \"is NOT perfect.\")\n",
    "    \n",
    "    n = int(input())\n",
    "    "
   ]
  },
  {
   "cell_type": "code",
   "execution_count": null,
   "metadata": {},
   "outputs": [],
   "source": []
  }
 ],
 "metadata": {
  "kernelspec": {
   "display_name": "Python 3",
   "language": "python",
   "name": "python3"
  },
  "language_info": {
   "codemirror_mode": {
    "name": "ipython",
    "version": 3
   },
   "file_extension": ".py",
   "mimetype": "text/x-python",
   "name": "python",
   "nbconvert_exporter": "python",
   "pygments_lexer": "ipython3",
   "version": "3.11.2"
  },
  "orig_nbformat": 4
 },
 "nbformat": 4,
 "nbformat_minor": 2
}
