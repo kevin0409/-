{
 "cells": [
  {
   "cell_type": "code",
   "execution_count": null,
   "metadata": {},
   "outputs": [],
   "source": [
    "M = int(input())\n",
    "N = int(input())\n",
    "num_list = [i for i in range(M,N+1)]\n",
    "prime_list = []\n",
    "\n",
    "for i in num_list:\n",
    "    if i < 2:\n",
    "        continue\n",
    "    is_prime = True\n",
    "    for j in range(2, int(i**0.5)+1):\n",
    "        if i % j == 0:\n",
    "            is_prime = False\n",
    "            break\n",
    "    if is_prime:\n",
    "        prime_list.append(i)\n",
    "if len(prime_list) == 0:\n",
    "    print(-1)\n",
    "else:\n",
    "    print(sum(prime_list))\n",
    "    print(min(prime_list))"
   ]
  }
 ],
 "metadata": {
  "language_info": {
   "name": "python"
  },
  "orig_nbformat": 4
 },
 "nbformat": 4,
 "nbformat_minor": 2
}
